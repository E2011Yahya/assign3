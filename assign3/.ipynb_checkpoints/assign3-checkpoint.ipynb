{
 "cells": [
  {
   "cell_type": "code",
   "execution_count": null,
   "metadata": {},
   "outputs": [],
   "source": [
    "# An n-digit number that is the sum of the nth powers of its digits is called an n-Armstrong number. Examples :\n",
    "# 371 = 33 + 73 + 13;\n",
    "# 9474 = 94 + 44 + 74 + 44;\n",
    "# 93084 = 95 + 35 + 05 + 85 + 45.\n",
    "\n",
    "# Write a Python program that; \n",
    "# takes a positive integer number from the user,\n",
    "# checks the entered number if it is Armstrong,\n",
    "# consider the negative, float and any entries other than numeric values then display a warning message to the user."
   ]
  },
  {
   "cell_type": "code",
   "execution_count": 19,
   "metadata": {},
   "outputs": [
    {
     "name": "stdin",
     "output_type": "stream",
     "text": [
      "Please write a positive number 9474\n"
     ]
    },
    {
     "name": "stdout",
     "output_type": "stream",
     "text": [
      "9474 is an Armstrong number.\n"
     ]
    }
   ],
   "source": [
    "num = input(\"Please write a positive number\")\n",
    "\n",
    "if num.isdigit() != True:\n",
    "    print(\"It is an invalid entry. Don't use non-numeric, float, or negative values!\")\n",
    "else:\n",
    "    x1 = list(num)\n",
    "    sum_x1 = 0\n",
    "    for n in x1 :\n",
    "        i = (int(n) ** len(x1))\n",
    "        sum_x1 += i \n",
    "        \n",
    "    \n",
    "    if int(sum_x1) == int(num):\n",
    "        print(num, \"is an Armstrong number.\")\n",
    "    else :\n",
    "        print(num, \"is not an Armstrong number.\")\n",
    "    \n",
    "\n",
    "\n",
    "\n",
    "    "
   ]
  },
  {
   "cell_type": "code",
   "execution_count": 3,
   "metadata": {},
   "outputs": [],
   "source": [
    "def my_function (a, b):\n",
    "    area = (a * b)\n",
    "    print(area)\n",
    "\n"
   ]
  },
  {
   "cell_type": "code",
   "execution_count": null,
   "metadata": {},
   "outputs": [],
   "source": []
  },
  {
   "cell_type": "code",
   "execution_count": null,
   "metadata": {},
   "outputs": [],
   "source": []
  }
 ],
 "metadata": {
  "kernelspec": {
   "display_name": "Python 3",
   "language": "python",
   "name": "python3"
  },
  "language_info": {
   "codemirror_mode": {
    "name": "ipython",
    "version": 3
   },
   "file_extension": ".py",
   "mimetype": "text/x-python",
   "name": "python",
   "nbconvert_exporter": "python",
   "pygments_lexer": "ipython3",
   "version": "3.7.6"
  }
 },
 "nbformat": 4,
 "nbformat_minor": 4
}
